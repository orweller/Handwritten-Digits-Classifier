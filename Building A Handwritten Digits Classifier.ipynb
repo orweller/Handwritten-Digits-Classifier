{
 "cells": [
  {
   "cell_type": "markdown",
   "metadata": {},
   "source": [
    "# Building A Handwritten Digits Classifier"
   ]
  },
  {
   "cell_type": "markdown",
   "metadata": {},
   "source": [
    "## Introduction"
   ]
  },
  {
   "cell_type": "markdown",
   "metadata": {},
   "source": [
    "In this project, we'll explore the effectiveness of deep, feedforward neural networks at classifying images.\n",
    "\n",
    "Scikit-learn contains a number of datasets pre-loaded with the library, within the namespace of sklearn.datasets. The load_digits() function returns a copy of the hand-written digits dataset from UCI."
   ]
  },
  {
   "cell_type": "markdown",
   "metadata": {},
   "source": [
    "## Working With Image Data"
   ]
  },
  {
   "cell_type": "markdown",
   "metadata": {},
   "source": [
    "Because dataframes are a tabular representation of data, each image is represented as a row of pixel values. To visualize an image from the dataframe, we need to reshape the image back to its original dimensions (28 x 28 pixels). To visualize the image, we need to reshape these pixel values back into the 28 by 28 and plot them on a coordinate grid.\n",
    "\n",
    "To reshape the image, we need to convert a training example to a numpy array (excluding the label column) and pass the result into that into the numpy.reshape() function:\n",
    "\n",
    "first_image = train.iloc[0]\n",
    "first_image = first_image.drop('label', axis=1)\n",
    "np_image = first_image.values\n",
    "np_image = np_image.reshape(28,28)\n",
    "Now that the data is in the right shape, we can visualize it using pyplot.imshow() function:\n",
    "\n",
    "plt.imshow(np_image, cmap='gray_r')\n",
    "To display multiple images in one matplotlib figure, we can use the equivalent axes.imshow() function."
   ]
  },
  {
   "cell_type": "code",
   "execution_count": 1,
   "metadata": {},
   "outputs": [],
   "source": [
    "from sklearn.datasets import load_digits\n",
    "import pandas as pd\n",
    "import numpy as np\n",
    "import matplotlib.pyplot as plt\n",
    "%matplotlib inline\n",
    "import warnings\n",
    "warnings.filterwarnings(\"ignore\")"
   ]
  },
  {
   "cell_type": "code",
   "execution_count": 2,
   "metadata": {},
   "outputs": [
    {
     "data": {
      "text/html": [
       "<div>\n",
       "<style scoped>\n",
       "    .dataframe tbody tr th:only-of-type {\n",
       "        vertical-align: middle;\n",
       "    }\n",
       "\n",
       "    .dataframe tbody tr th {\n",
       "        vertical-align: top;\n",
       "    }\n",
       "\n",
       "    .dataframe thead th {\n",
       "        text-align: right;\n",
       "    }\n",
       "</style>\n",
       "<table border=\"1\" class=\"dataframe\">\n",
       "  <thead>\n",
       "    <tr style=\"text-align: right;\">\n",
       "      <th></th>\n",
       "      <th>0</th>\n",
       "      <th>1</th>\n",
       "      <th>2</th>\n",
       "      <th>3</th>\n",
       "      <th>4</th>\n",
       "      <th>5</th>\n",
       "      <th>6</th>\n",
       "      <th>7</th>\n",
       "      <th>8</th>\n",
       "      <th>9</th>\n",
       "      <th>...</th>\n",
       "      <th>54</th>\n",
       "      <th>55</th>\n",
       "      <th>56</th>\n",
       "      <th>57</th>\n",
       "      <th>58</th>\n",
       "      <th>59</th>\n",
       "      <th>60</th>\n",
       "      <th>61</th>\n",
       "      <th>62</th>\n",
       "      <th>63</th>\n",
       "    </tr>\n",
       "  </thead>\n",
       "  <tbody>\n",
       "    <tr>\n",
       "      <th>0</th>\n",
       "      <td>0.0</td>\n",
       "      <td>0.0</td>\n",
       "      <td>5.0</td>\n",
       "      <td>13.0</td>\n",
       "      <td>9.0</td>\n",
       "      <td>1.0</td>\n",
       "      <td>0.0</td>\n",
       "      <td>0.0</td>\n",
       "      <td>0.0</td>\n",
       "      <td>0.0</td>\n",
       "      <td>...</td>\n",
       "      <td>0.0</td>\n",
       "      <td>0.0</td>\n",
       "      <td>0.0</td>\n",
       "      <td>0.0</td>\n",
       "      <td>6.0</td>\n",
       "      <td>13.0</td>\n",
       "      <td>10.0</td>\n",
       "      <td>0.0</td>\n",
       "      <td>0.0</td>\n",
       "      <td>0.0</td>\n",
       "    </tr>\n",
       "    <tr>\n",
       "      <th>1</th>\n",
       "      <td>0.0</td>\n",
       "      <td>0.0</td>\n",
       "      <td>0.0</td>\n",
       "      <td>12.0</td>\n",
       "      <td>13.0</td>\n",
       "      <td>5.0</td>\n",
       "      <td>0.0</td>\n",
       "      <td>0.0</td>\n",
       "      <td>0.0</td>\n",
       "      <td>0.0</td>\n",
       "      <td>...</td>\n",
       "      <td>0.0</td>\n",
       "      <td>0.0</td>\n",
       "      <td>0.0</td>\n",
       "      <td>0.0</td>\n",
       "      <td>0.0</td>\n",
       "      <td>11.0</td>\n",
       "      <td>16.0</td>\n",
       "      <td>10.0</td>\n",
       "      <td>0.0</td>\n",
       "      <td>0.0</td>\n",
       "    </tr>\n",
       "    <tr>\n",
       "      <th>2</th>\n",
       "      <td>0.0</td>\n",
       "      <td>0.0</td>\n",
       "      <td>0.0</td>\n",
       "      <td>4.0</td>\n",
       "      <td>15.0</td>\n",
       "      <td>12.0</td>\n",
       "      <td>0.0</td>\n",
       "      <td>0.0</td>\n",
       "      <td>0.0</td>\n",
       "      <td>0.0</td>\n",
       "      <td>...</td>\n",
       "      <td>5.0</td>\n",
       "      <td>0.0</td>\n",
       "      <td>0.0</td>\n",
       "      <td>0.0</td>\n",
       "      <td>0.0</td>\n",
       "      <td>3.0</td>\n",
       "      <td>11.0</td>\n",
       "      <td>16.0</td>\n",
       "      <td>9.0</td>\n",
       "      <td>0.0</td>\n",
       "    </tr>\n",
       "    <tr>\n",
       "      <th>3</th>\n",
       "      <td>0.0</td>\n",
       "      <td>0.0</td>\n",
       "      <td>7.0</td>\n",
       "      <td>15.0</td>\n",
       "      <td>13.0</td>\n",
       "      <td>1.0</td>\n",
       "      <td>0.0</td>\n",
       "      <td>0.0</td>\n",
       "      <td>0.0</td>\n",
       "      <td>8.0</td>\n",
       "      <td>...</td>\n",
       "      <td>9.0</td>\n",
       "      <td>0.0</td>\n",
       "      <td>0.0</td>\n",
       "      <td>0.0</td>\n",
       "      <td>7.0</td>\n",
       "      <td>13.0</td>\n",
       "      <td>13.0</td>\n",
       "      <td>9.0</td>\n",
       "      <td>0.0</td>\n",
       "      <td>0.0</td>\n",
       "    </tr>\n",
       "    <tr>\n",
       "      <th>4</th>\n",
       "      <td>0.0</td>\n",
       "      <td>0.0</td>\n",
       "      <td>0.0</td>\n",
       "      <td>1.0</td>\n",
       "      <td>11.0</td>\n",
       "      <td>0.0</td>\n",
       "      <td>0.0</td>\n",
       "      <td>0.0</td>\n",
       "      <td>0.0</td>\n",
       "      <td>0.0</td>\n",
       "      <td>...</td>\n",
       "      <td>0.0</td>\n",
       "      <td>0.0</td>\n",
       "      <td>0.0</td>\n",
       "      <td>0.0</td>\n",
       "      <td>0.0</td>\n",
       "      <td>2.0</td>\n",
       "      <td>16.0</td>\n",
       "      <td>4.0</td>\n",
       "      <td>0.0</td>\n",
       "      <td>0.0</td>\n",
       "    </tr>\n",
       "  </tbody>\n",
       "</table>\n",
       "<p>5 rows × 64 columns</p>\n",
       "</div>"
      ],
      "text/plain": [
       "    0    1    2     3     4     5    6    7    8    9   ...   54   55   56  \\\n",
       "0  0.0  0.0  5.0  13.0   9.0   1.0  0.0  0.0  0.0  0.0  ...  0.0  0.0  0.0   \n",
       "1  0.0  0.0  0.0  12.0  13.0   5.0  0.0  0.0  0.0  0.0  ...  0.0  0.0  0.0   \n",
       "2  0.0  0.0  0.0   4.0  15.0  12.0  0.0  0.0  0.0  0.0  ...  5.0  0.0  0.0   \n",
       "3  0.0  0.0  7.0  15.0  13.0   1.0  0.0  0.0  0.0  8.0  ...  9.0  0.0  0.0   \n",
       "4  0.0  0.0  0.0   1.0  11.0   0.0  0.0  0.0  0.0  0.0  ...  0.0  0.0  0.0   \n",
       "\n",
       "    57   58    59    60    61   62   63  \n",
       "0  0.0  6.0  13.0  10.0   0.0  0.0  0.0  \n",
       "1  0.0  0.0  11.0  16.0  10.0  0.0  0.0  \n",
       "2  0.0  0.0   3.0  11.0  16.0  9.0  0.0  \n",
       "3  0.0  7.0  13.0  13.0   9.0  0.0  0.0  \n",
       "4  0.0  0.0   2.0  16.0   4.0  0.0  0.0  \n",
       "\n",
       "[5 rows x 64 columns]"
      ]
     },
     "execution_count": 2,
     "metadata": {},
     "output_type": "execute_result"
    }
   ],
   "source": [
    "data, target = load_digits(return_X_y=True)\n",
    "data = pd.DataFrame(data)\n",
    "target = pd.Series(target)\n",
    "data.head()"
   ]
  },
  {
   "cell_type": "markdown",
   "metadata": {},
   "source": [
    "Plotting the first image:"
   ]
  },
  {
   "cell_type": "code",
   "execution_count": 3,
   "metadata": {},
   "outputs": [
    {
     "data": {
      "text/plain": [
       "<matplotlib.image.AxesImage at 0x123188970>"
      ]
     },
     "execution_count": 3,
     "metadata": {},
     "output_type": "execute_result"
    },
    {
     "data": {
      "image/png": "[encoded data removed]",
      "text/plain": [
       "<Figure size 432x288 with 1 Axes>"
      ]
     },
     "metadata": {
      "needs_background": "light"
     },
     "output_type": "display_data"
    }
   ],
   "source": [
    "first_image = data.iloc[0]\n",
    "np_image = first_image.values\n",
    "np_image = np_image.reshape(8,8)\n",
    "\n",
    "plt.imshow(np_image, cmap='gray_r')"
   ]
  },
  {
   "cell_type": "markdown",
   "metadata": {},
   "source": [
    "Plotting a scatter plot grid, with 2 rows and 4 columns."
   ]
  },
  {
   "cell_type": "code",
   "execution_count": 4,
   "metadata": {},
   "outputs": [
    {
     "data": {
      "image/png": "[encoded data removed]",
      "text/plain": [
       "<Figure size 1440x720 with 8 Axes>"
      ]
     },
     "metadata": {
      "needs_background": "light"
     },
     "output_type": "display_data"
    }
   ],
   "source": [
    "fig, axs = plt.subplots(2, 4, figsize=(20, 10))\n",
    "rows = [0, 100, 200, 300, 1000, 1100, 1200, 1300]\n",
    "plot_num = 1\n",
    "for row in rows:\n",
    "    image = data.iloc[row]\n",
    "    np_image = image.values\n",
    "    np_image = np_image.reshape(8,8)\n",
    "    ax = plt.subplot(2,4,plot_num)\n",
    "    plot_num += 1\n",
    "    ax.imshow(np_image, cmap='gray_r')"
   ]
  },
  {
   "cell_type": "markdown",
   "metadata": {},
   "source": [
    "## K-Nearest Neighbors Algorithm"
   ]
  },
  {
   "cell_type": "markdown",
   "metadata": {},
   "source": [
    "While linear and logistic regression models make assumptions about the linearity between the features and the output labels, the k-nearest neighbors algorithm makes no such assumption. This allows it to capture nonlinearity in the data.\n",
    "\n",
    "The k-nearest neighbors algorithm compares every unseen observation in the test set to all (or many, as some implementations constrain the search space) training observations to look for similar (or the \"nearest\") observations. Then, the algorithm finds the label with the most nearby observations and assigns that label as the prediction for the unseen observation.\n",
    "\n",
    "We'll use the KNeighborsClassifier package from SKLearn to train and test k-nearest neighbors models."
   ]
  },
  {
   "cell_type": "markdown",
   "metadata": {},
   "source": [
    "### Prepping Train, Test, Cross_Validate Pipeline"
   ]
  },
  {
   "cell_type": "code",
   "execution_count": 5,
   "metadata": {},
   "outputs": [],
   "source": [
    "from sklearn.neighbors import KNeighborsClassifier\n",
    "from sklearn.model_selection import KFold\n",
    "\n",
    "def train_knn(num_neighbors, train_features, train_labels):\n",
    "    knn = KNeighborsClassifier(n_neighbors = num_neighbors)\n",
    "    knn.fit(train_features, train_labels)\n",
    "    return knn\n",
    "    \n",
    "def test(model, test_features, test_labels):\n",
    "    predictions = model.predict(test_features)\n",
    "    results_df = pd.DataFrame()\n",
    "    results_df['actual'] = test_labels\n",
    "    results_df['predicted'] = predictions\n",
    "    accuracy = sum(results_df['actual']==results_df['predicted'])/len(results_df)\n",
    "    return accuracy\n",
    "    \n",
    "def cross_validate_knn(k, data, target):\n",
    "    train_accuracies = []\n",
    "    test_accuracies = []\n",
    "    kf = KFold(n_splits=4, random_state=1)\n",
    "    for train_index, test_index in kf.split(data):\n",
    "        train_features, test_features = data.loc[train_index], data.loc[test_index]\n",
    "        train_labels, test_labels = target.loc[train_index], target.loc[test_index]\n",
    "        \n",
    "        model = train_knn(k, train_features, train_labels)\n",
    "        \n",
    "        train_accuracy = test(model, train_features, train_labels)\n",
    "        test_accuracy = test(model, test_features, test_labels)\n",
    "        train_accuracies.append(train_accuracy)\n",
    "        test_accuracies.append(test_accuracy)\n",
    "    mean_train_accuracies = np.mean(train_accuracies)\n",
    "    mean_test_accuracies = np.mean(test_accuracies)\n",
    "    return mean_train_accuracies, mean_test_accuracies"
   ]
  },
  {
   "cell_type": "markdown",
   "metadata": {},
   "source": [
    "### Testing the Pipeline w/ k=1"
   ]
  },
  {
   "cell_type": "code",
   "execution_count": 6,
   "metadata": {},
   "outputs": [
    {
     "name": "stdout",
     "output_type": "stream",
     "text": [
      "mean_train_accuracy:  1.0\n",
      "mean_test_accuracy:  0.9677233358079684\n"
     ]
    }
   ],
   "source": [
    "mean_train_accuracies, mean_test_accuracies = cross_validate_knn(1, data, target)\n",
    "print('mean_train_accuracy: ', mean_train_accuracies)\n",
    "print('mean_test_accuracy: ', mean_test_accuracies)"
   ]
  },
  {
   "cell_type": "markdown",
   "metadata": {},
   "source": [
    "### Finding the Best k Value"
   ]
  },
  {
   "cell_type": "code",
   "execution_count": 7,
   "metadata": {},
   "outputs": [
    {
     "data": {
      "image/png": "[encoded data removed]",
      "text/plain": [
       "<Figure size 432x288 with 1 Axes>"
      ]
     },
     "metadata": {
      "needs_background": "light"
     },
     "output_type": "display_data"
    }
   ],
   "source": [
    "mean_train_accuracies_by_k = []\n",
    "mean_test_accuracies_by_k = []\n",
    "for k in range(1,20):\n",
    "    mean_train_accuracies, mean_test_accuracies = cross_validate_knn(k, data, target)\n",
    "    mean_train_accuracies_by_k.append(mean_train_accuracies)\n",
    "    mean_test_accuracies_by_k.append(mean_test_accuracies)\n",
    "x = range(1,20)\n",
    "plt.plot(x,mean_train_accuracies_by_k, label='train')\n",
    "plt.plot(x,mean_test_accuracies_by_k, label='test')\n",
    "plt.xlabel('k (Number of Neighbors)')\n",
    "plt.ylabel('Mean Accuracy')\n",
    "plt.title('Finding the Best k Value')\n",
    "plt.legend()\n",
    "plt.show()"
   ]
  },
  {
   "cell_type": "markdown",
   "metadata": {},
   "source": [
    "It seems the best k value is 1."
   ]
  },
  {
   "cell_type": "markdown",
   "metadata": {},
   "source": [
    "Overall, the K-Nearest-Neighbors Algorithm provided pretty good results (accuracy score: 96.77%).  However, we may have some overfitting here and more importantly, as an algorithm, KNN has a very high memory usage as it needs to be recalculated with each new observation and we don't have a model we can tweak / debug / explore.  \n",
    "\n",
    "Let's move on to a Neural Network.  We'll start by creating one with one hidden layer."
   ]
  },
  {
   "cell_type": "markdown",
   "metadata": {},
   "source": [
    "## Neural Network (1 Hidden Layer)"
   ]
  },
  {
   "cell_type": "markdown",
   "metadata": {},
   "source": [
    "### Updating Our Pipeline For Neural Networks w/ 1 Hidden Layer"
   ]
  },
  {
   "cell_type": "code",
   "execution_count": 8,
   "metadata": {},
   "outputs": [],
   "source": [
    "from sklearn.neural_network import MLPClassifier\n",
    "\n",
    "def train_nn(num_neurons, train_features, train_labels):\n",
    "    mlp = MLPClassifier(hidden_layer_sizes = num_neurons)\n",
    "    mlp.fit(train_features, train_labels)\n",
    "    return mlp\n",
    "    \n",
    "def test(model, test_features, test_labels):\n",
    "    predictions = model.predict(test_features)\n",
    "    results_df = pd.DataFrame()\n",
    "    results_df['actual'] = test_labels\n",
    "    results_df['predicted'] = predictions\n",
    "    accuracy = sum(results_df['actual']==results_df['predicted'])/len(results_df)\n",
    "    return accuracy\n",
    "    \n",
    "def cross_validate_nn(num_neurons, data, target):\n",
    "    train_accuracies = []\n",
    "    test_accuracies = []\n",
    "    kf = KFold(n_splits=4, random_state=1)\n",
    "    for train_index, test_index in kf.split(data):\n",
    "        train_features, test_features = data.loc[train_index], data.loc[test_index]\n",
    "        train_labels, test_labels = target.loc[train_index], target.loc[test_index]\n",
    "        \n",
    "        model = train_nn(num_neurons, train_features, train_labels)\n",
    "        \n",
    "        train_accuracy = test(model, train_features, train_labels)\n",
    "        test_accuracy = test(model, test_features, test_labels)\n",
    "        train_accuracies.append(train_accuracy)\n",
    "        test_accuracies.append(test_accuracy)\n",
    "    mean_train_accuracies = np.mean(train_accuracies)\n",
    "    mean_test_accuracies = np.mean(test_accuracies)\n",
    "    return mean_train_accuracies, mean_test_accuracies"
   ]
  },
  {
   "cell_type": "markdown",
   "metadata": {},
   "source": [
    "### Test w/ 8 Neurons"
   ]
  },
  {
   "cell_type": "code",
   "execution_count": 9,
   "metadata": {},
   "outputs": [
    {
     "name": "stdout",
     "output_type": "stream",
     "text": [
      "mean_train_accuracy:  0.9502861342603302\n",
      "mean_test_accuracy:  0.8664377629299679\n"
     ]
    }
   ],
   "source": [
    "mean_train_accuracies, mean_test_accuracies = cross_validate_nn((8,), data, target)\n",
    "print('mean_train_accuracy: ', mean_train_accuracies)\n",
    "print('mean_test_accuracy: ', mean_test_accuracies)"
   ]
  },
  {
   "cell_type": "markdown",
   "metadata": {},
   "source": [
    "### Tests w/ 8, 16, 32, 64, 128, 256 Nuerons"
   ]
  },
  {
   "cell_type": "code",
   "execution_count": 10,
   "metadata": {},
   "outputs": [
    {
     "data": {
      "image/png": "[encoded data removed]",
      "text/plain": [
       "<Figure size 432x288 with 1 Axes>"
      ]
     },
     "metadata": {
      "needs_background": "light"
     },
     "output_type": "display_data"
    }
   ],
   "source": [
    "nn_one_layer_neuron_count = [(8,), (16,), (32,), (64,), (128,), (256,)]\n",
    "\n",
    "mean_train_accuracies_by_num_neurons = []\n",
    "mean_test_accuracies_by_num_neurons = []\n",
    "for n in nn_one_layer_neuron_count:\n",
    "    mean_train_accuracies, mean_test_accuracies = cross_validate_nn(n, data, target)\n",
    "    mean_train_accuracies_by_num_neurons.append(mean_train_accuracies)\n",
    "    mean_test_accuracies_by_num_neurons.append(mean_test_accuracies)\n",
    "x = [8,16,32,64,128,256]\n",
    "plt.plot(x,mean_train_accuracies_by_num_neurons, label='train')\n",
    "plt.plot(x,mean_test_accuracies_by_num_neurons, label='test')\n",
    "plt.xlabel('Number of Neurons')\n",
    "plt.ylabel('Mean Accuracy')\n",
    "plt.title('Performance w/ 1 Hidden Layer of Neurons')\n",
    "plt.legend()\n",
    "plt.show()"
   ]
  },
  {
   "cell_type": "markdown",
   "metadata": {},
   "source": [
    "These results show that the test accuracy continues to improve as we increase the number of neurons."
   ]
  },
  {
   "cell_type": "markdown",
   "metadata": {},
   "source": [
    "Our best model with 1 hidden layer:"
   ]
  },
  {
   "cell_type": "code",
   "execution_count": 11,
   "metadata": {},
   "outputs": [
    {
     "name": "stdout",
     "output_type": "stream",
     "text": [
      "mean_train_accuracy:  1.0\n",
      "mean_test_accuracy:  0.9493603068547389\n"
     ]
    }
   ],
   "source": [
    "mean_train_accuracies, mean_test_accuracies = cross_validate_nn((256,), data, target)\n",
    "print('mean_train_accuracy: ', mean_train_accuracies)\n",
    "print('mean_test_accuracy: ', mean_test_accuracies)"
   ]
  },
  {
   "cell_type": "markdown",
   "metadata": {},
   "source": [
    "This best model (w/ 1 hidden layer) doesn't perform quite as well as our KNN algorithm.  Further, because the train data hit's 100% accuracy quickly, it appears that this model is overfitting (at least more than our KNN algorithm did).\n",
    "\n",
    "Let's try a Neural Network with 2 Hidden Layers and see if we can improve our results."
   ]
  },
  {
   "cell_type": "markdown",
   "metadata": {},
   "source": [
    "## Neural Network (2 Hidden Layers)"
   ]
  },
  {
   "cell_type": "markdown",
   "metadata": {},
   "source": [
    "Our pipeline can remain the same for a Neural Network of 2 Hidden Layers, we just need to adjust the input tuples we're giving to the pipeline."
   ]
  },
  {
   "cell_type": "markdown",
   "metadata": {},
   "source": [
    "### Test w/ 8 Neurons in Each Layer"
   ]
  },
  {
   "cell_type": "code",
   "execution_count": 12,
   "metadata": {},
   "outputs": [
    {
     "name": "stdout",
     "output_type": "stream",
     "text": [
      "mean_train_accuracy:  0.9515810494361578\n",
      "mean_test_accuracy:  0.8369698094531056\n"
     ]
    }
   ],
   "source": [
    "mean_train_accuracies, mean_test_accuracies = cross_validate_nn((8,8), data, target)\n",
    "print('mean_train_accuracy: ', mean_train_accuracies)\n",
    "print('mean_test_accuracy: ', mean_test_accuracies)"
   ]
  },
  {
   "cell_type": "markdown",
   "metadata": {},
   "source": [
    "### Tests w/ 8, 16, 32, 64, 128, 256 Nuerons in Both Layers"
   ]
  },
  {
   "cell_type": "code",
   "execution_count": 13,
   "metadata": {},
   "outputs": [
    {
     "data": {
      "image/png": "[encoded data removed]",
      "text/plain": [
       "<Figure size 432x288 with 1 Axes>"
      ]
     },
     "metadata": {
      "needs_background": "light"
     },
     "output_type": "display_data"
    }
   ],
   "source": [
    "nn_two_layer_neuron_count = [(8,8), (16,16), (32,32), (64,64), (128,128), (256,256)]\n",
    "\n",
    "mean_train_accuracies_by_num_neurons = []\n",
    "mean_test_accuracies_by_num_neurons = []\n",
    "for n in nn_one_layer_neuron_count:\n",
    "    mean_train_accuracies, mean_test_accuracies = cross_validate_nn(n, data, target)\n",
    "    mean_train_accuracies_by_num_neurons.append(mean_train_accuracies)\n",
    "    mean_test_accuracies_by_num_neurons.append(mean_test_accuracies)\n",
    "x = [8,16,32,64,128,256]\n",
    "plt.plot(x,mean_train_accuracies_by_num_neurons, label='train')\n",
    "plt.plot(x,mean_test_accuracies_by_num_neurons, label='test')\n",
    "plt.xlabel('Number of Neurons')\n",
    "plt.ylabel('Mean Accuracy')\n",
    "plt.title('Performance w/ 2 Hidden Layers of Neurons')\n",
    "plt.legend()\n",
    "plt.show()"
   ]
  },
  {
   "cell_type": "markdown",
   "metadata": {},
   "source": [
    "Not surprisingly, our best model w/ 2 Hidden Layers is our Model w/ the most neurons in both hidden layers."
   ]
  },
  {
   "cell_type": "code",
   "execution_count": 14,
   "metadata": {},
   "outputs": [
    {
     "name": "stdout",
     "output_type": "stream",
     "text": [
      "mean_train_accuracy:  1.0\n",
      "mean_test_accuracy:  0.9560343974263796\n"
     ]
    }
   ],
   "source": [
    "mean_train_accuracies, mean_test_accuracies = cross_validate_nn((256,256), data, target)\n",
    "print('mean_train_accuracy: ', mean_train_accuracies)\n",
    "print('mean_test_accuracy: ', mean_test_accuracies)"
   ]
  },
  {
   "cell_type": "markdown",
   "metadata": {},
   "source": [
    "This model improved our accuracy by more than 1% from our best model w/ 1 hidden layer.  Let's move on to experimenting with some models with 3 hidden layers."
   ]
  },
  {
   "cell_type": "markdown",
   "metadata": {},
   "source": [
    "## Neural Network (3 Hidden Layers)"
   ]
  },
  {
   "cell_type": "markdown",
   "metadata": {},
   "source": [
    "Using more hidden layers is known to increase the amount of overfitting that happens. To help us prevent overfitting, we'll increase the number of folds we use for k-fold cross validation to 6 while testing networks with 3 hidden layers."
   ]
  },
  {
   "cell_type": "markdown",
   "metadata": {},
   "source": [
    "### Updating Our Pipeline to Allow Us to Enter Various n_splits Values"
   ]
  },
  {
   "cell_type": "code",
   "execution_count": 15,
   "metadata": {},
   "outputs": [],
   "source": [
    "def train_nn(num_neurons, train_features, train_labels):\n",
    "    mlp = MLPClassifier(hidden_layer_sizes = num_neurons)\n",
    "    mlp.fit(train_features, train_labels)\n",
    "    return mlp\n",
    "    \n",
    "def test(model, test_features, test_labels):\n",
    "    predictions = model.predict(test_features)\n",
    "    results_df = pd.DataFrame()\n",
    "    results_df['actual'] = test_labels\n",
    "    results_df['predicted'] = predictions\n",
    "    accuracy = sum(results_df['actual']==results_df['predicted'])/len(results_df)\n",
    "    return accuracy\n",
    "    \n",
    "def cross_validate_nn(num_neurons, data, target, num_folds=4):\n",
    "    train_accuracies = []\n",
    "    test_accuracies = []\n",
    "    kf = KFold(n_splits=num_folds, random_state=1)\n",
    "    for train_index, test_index in kf.split(data):\n",
    "        train_features, test_features = data.loc[train_index], data.loc[test_index]\n",
    "        train_labels, test_labels = target.loc[train_index], target.loc[test_index]\n",
    "        \n",
    "        model = train_nn(num_neurons, train_features, train_labels)\n",
    "        \n",
    "        train_accuracy = test(model, train_features, train_labels)\n",
    "        test_accuracy = test(model, test_features, test_labels)\n",
    "        train_accuracies.append(train_accuracy)\n",
    "        test_accuracies.append(test_accuracy)\n",
    "    mean_train_accuracies = np.mean(train_accuracies)\n",
    "    mean_test_accuracies = np.mean(test_accuracies)\n",
    "    return mean_train_accuracies, mean_test_accuracies"
   ]
  },
  {
   "cell_type": "markdown",
   "metadata": {},
   "source": [
    "### Tests w/ 8, 16, 32, 64, 128, 256 Nuerons in All 3 Layers"
   ]
  },
  {
   "cell_type": "code",
   "execution_count": 16,
   "metadata": {},
   "outputs": [
    {
     "data": {
      "image/png": "[encoded data removed]",
      "text/plain": [
       "<Figure size 432x288 with 1 Axes>"
      ]
     },
     "metadata": {
      "needs_background": "light"
     },
     "output_type": "display_data"
    }
   ],
   "source": [
    "nn_three_layer_neuron_count = [(8,8,8), (16,16,16), (32,32,32), (64,64,64), (128,128,128), (256,256,256)]\n",
    "\n",
    "mean_train_accuracies_by_num_neurons = []\n",
    "mean_test_accuracies_by_num_neurons = []\n",
    "for n in nn_one_layer_neuron_count:\n",
    "    mean_train_accuracies, mean_test_accuracies = cross_validate_nn(n, data, target, num_folds=6)\n",
    "    mean_train_accuracies_by_num_neurons.append(mean_train_accuracies)\n",
    "    mean_test_accuracies_by_num_neurons.append(mean_test_accuracies)\n",
    "x = [8,16,32,64,128,256]\n",
    "plt.plot(x,mean_train_accuracies_by_num_neurons, label='train')\n",
    "plt.plot(x,mean_test_accuracies_by_num_neurons, label='test')\n",
    "plt.xlabel('Number of Neurons')\n",
    "plt.ylabel('Mean Accuracy')\n",
    "plt.title('Performance w/ 3 Hidden Layers (6 Folds)')\n",
    "plt.legend()\n",
    "plt.show()"
   ]
  },
  {
   "cell_type": "markdown",
   "metadata": {},
   "source": [
    "Again, our best model w/ 3 Hidden Layers is the one with the most neurons per layer:"
   ]
  },
  {
   "cell_type": "code",
   "execution_count": 17,
   "metadata": {},
   "outputs": [
    {
     "name": "stdout",
     "output_type": "stream",
     "text": [
      "mean_train_accuracy:  1.0\n",
      "mean_test_accuracy:  0.9649461166852471\n"
     ]
    }
   ],
   "source": [
    "mean_train_accuracies, mean_test_accuracies = cross_validate_nn((256,256,256), data, target, num_folds=6)\n",
    "print('mean_train_accuracy: ', mean_train_accuracies)\n",
    "print('mean_test_accuracy: ', mean_test_accuracies)"
   ]
  },
  {
   "cell_type": "markdown",
   "metadata": {},
   "source": [
    "Once again, by adding another layer, we've improved our accuracy score by a little over 1%."
   ]
  },
  {
   "cell_type": "markdown",
   "metadata": {},
   "source": [
    "## Conclusion"
   ]
  },
  {
   "cell_type": "markdown",
   "metadata": {},
   "source": [
    "Here are the results of our models:"
   ]
  },
  {
   "cell_type": "markdown",
   "metadata": {},
   "source": [
    "| Model | Mean Train Accuracy | Mean Test Accuracy |\n",
    "| :----- | -----: | -----: |\n",
    "| K-Nearest Neighbors | 100% | 96.77% |\n",
    "| Neural Network - 1 Hidden Layer | 100% | 94.94% |\n",
    "| Neural Network - 2 Hidden Layers | 100% | 95.60% |\n",
    "| **Neural Network - 3 Hidden Layers** | **100%** | **96.49%** |"
   ]
  },
  {
   "cell_type": "markdown",
   "metadata": {},
   "source": [
    "From these results we can see our Neural Network of 3 Hidden Layers (256 Neurons in each layer) provided our best results (very close to the K-Nearest Neighbors algorithm that we started with).  And with similar results, we prefer using a model we can explore and tweak as needed to an algorithm."
   ]
  },
  {
   "cell_type": "markdown",
   "metadata": {},
   "source": [
    "### Next Steps"
   ]
  },
  {
   "cell_type": "markdown",
   "metadata": {},
   "source": [
    "Here are some next steps we could try:\n",
    "\n",
    " * Use the existing pipeline you've built to try other machine learning models:\n",
    "    * Decision Tree Models\n",
    "    * Random Forest Models\n",
    " * Experiment with different activation functions to see if the accuracies improve.\n",
    " * Add a visualization step to our pipeline for visualizing weights in our neural network models."
   ]
  }
 ],
 "metadata": {
  "kernelspec": {
   "display_name": "Python 3",
   "language": "python",
   "name": "python3"
  },
  "language_info": {
   "codemirror_mode": {
    "name": "ipython",
    "version": 3
   },
   "file_extension": ".py",
   "mimetype": "text/x-python",
   "name": "python",
   "nbconvert_exporter": "python",
   "pygments_lexer": "ipython3",
   "version": "3.8.5"
  }
 },
 "nbformat": 4,
 "nbformat_minor": 4
}
